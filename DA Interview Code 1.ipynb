{
 "cells": [
  {
   "cell_type": "markdown",
   "metadata": {},
   "source": [
    "# Skills Assessment for DA Interview\n",
    "\n",
    "### Given an input list l_in, write a function that generates a list of lists containing consecutive elements.\n",
    "Example:\n",
    "\n",
    "l_in = [1,2,3,5,6,7,9] # example input\n",
    "foo(l_in)\n",
    "\n",
    "Answer:\n",
    "\n",
    "[[1,2,3], [5,6,7], [9]]"
   ]
  },
  {
   "cell_type": "code",
   "execution_count": 1,
   "metadata": {},
   "outputs": [],
   "source": [
    "l_in = [1,2,3,5,6,7,9]"
   ]
  },
  {
   "cell_type": "code",
   "execution_count": 3,
   "metadata": {},
   "outputs": [
    {
     "name": "stdout",
     "output_type": "stream",
     "text": [
      "[[1, 2, 3], [5, 6, 7], [9]]\n"
     ]
    }
   ],
   "source": [
    "l = [] #sublist\n",
    "n = []\n",
    "m = []\n",
    "\n",
    "for element in l_in:\n",
    "    \n",
    "    if element + 1 in l_in:\n",
    "        l.append(element) #5 getting caught here. \n",
    "    elif element - 1 in l_in:\n",
    "        l.append(element) # append to upper sublist\n",
    "        m.append(l)\n",
    "        l = []\n",
    "        \n",
    "    else: \n",
    "        n.append(element) # Create within new list. \n",
    "        m.append(n)\n",
    "        n = []\n",
    "\n",
    "\n",
    "print(m)"
   ]
  },
  {
   "cell_type": "code",
   "execution_count": 4,
   "metadata": {},
   "outputs": [],
   "source": [
    "def sublistfunction(l_in):\n",
    "    l = []\n",
    "    n = []\n",
    "    m = []\n",
    "    \n",
    "    l_in = sorted(l_in)\n",
    "\n",
    "    for element in l_in:\n",
    "\n",
    "        if element + 1 in l_in:\n",
    "            l.append(element)\n",
    "        elif element - 1 in l_in:\n",
    "            l.append(element)\n",
    "            m.append(l)\n",
    "            l = []\n",
    "\n",
    "        else: \n",
    "            n.append(element)\n",
    "            m.append(n)\n",
    "            n = []\n",
    "            \n",
    "            \n",
    "    return m"
   ]
  },
  {
   "cell_type": "code",
   "execution_count": 6,
   "metadata": {},
   "outputs": [
    {
     "data": {
      "text/plain": [
       "[[1, 2, 3], [5, 6, 7], [9]]"
      ]
     },
     "execution_count": 6,
     "metadata": {},
     "output_type": "execute_result"
    }
   ],
   "source": [
    "sublistfunction(l_in)"
   ]
  }
 ],
 "metadata": {
  "kernelspec": {
   "display_name": "Python 3",
   "language": "python",
   "name": "python3"
  },
  "language_info": {
   "codemirror_mode": {
    "name": "ipython",
    "version": 3
   },
   "file_extension": ".py",
   "mimetype": "text/x-python",
   "name": "python",
   "nbconvert_exporter": "python",
   "pygments_lexer": "ipython3",
   "version": "3.8.5"
  }
 },
 "nbformat": 4,
 "nbformat_minor": 4
}
